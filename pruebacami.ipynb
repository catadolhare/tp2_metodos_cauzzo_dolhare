{
 "cells": [
  {
   "cell_type": "code",
   "execution_count": 44,
   "metadata": {},
   "outputs": [],
   "source": [
    "import numpy as np\n",
    "import matplotlib.pyplot as plt\n",
    "from PIL import Image\n",
    "import os\n",
    "import time\n",
    "import random"
   ]
  },
  {
   "cell_type": "code",
   "execution_count": 45,
   "metadata": {},
   "outputs": [],
   "source": [
    "def abrirImagenesEscaladas( carpeta, escala=32 ):\n",
    "    # abre todas las imagenes de la carpeta, y las escala de tal forma que midan (escala x escala)px\n",
    "    # devuelve las imagenes aplanadas -> vectores de tamano escala^2 con valores entre 0 y 1\n",
    "    imagenes = []\n",
    "\n",
    "    for dirpath, dirnames, filenames in os.walk(carpeta):\n",
    "        for file in filenames:\n",
    "            file_path = os.path.join(dirpath, file)\n",
    "            if os.path.isfile(file_path):\n",
    "                img = Image.open(file_path)\n",
    "                img = img.resize((escala, escala))\n",
    "                img = img.convert('L')\n",
    "                img = np.asarray(img)\n",
    "                img = img.reshape((escala**2)) / 255.0\n",
    "                imagenes.append(img)\n",
    "    return imagenes"
   ]
  },
  {
   "cell_type": "code",
   "execution_count": 46,
   "metadata": {},
   "outputs": [],
   "source": [
    "from derivada_w3 import fAndG as fAndG_w\n",
    "from derivada_b2 import fAndG as fAndG_b"
   ]
  },
  {
   "cell_type": "code",
   "execution_count": 47,
   "metadata": {},
   "outputs": [],
   "source": [
    "def balancear_datos():\n",
    "    imagenes_train_normal = abrirImagenesEscaladas(\"chest_xray/train/NORMAL\")\n",
    "    imagenes_train_pneumonia = abrirImagenesEscaladas(\"chest_xray/train/PNEUMONIA\")\n",
    "\n",
    "    cantidad_imagenes = min(len(imagenes_train_normal), len(imagenes_train_pneumonia))\n",
    "    imagenes_train_normal = imagenes_train_normal[:cantidad_imagenes]\n",
    "    imagenes_train_pneumonia = imagenes_train_pneumonia[:cantidad_imagenes]\n",
    "\n",
    "    return [imagenes_train_normal, imagenes_train_pneumonia]"
   ]
  },
  {
   "cell_type": "code",
   "execution_count": 48,
   "metadata": {},
   "outputs": [],
   "source": [
    "imagenes = balancear_datos()"
   ]
  },
  {
   "cell_type": "code",
   "execution_count": null,
   "metadata": {},
   "outputs": [],
   "source": [
    "def L_w(i,w,b,d):\n",
    "    t0=np.tanh(np.dot(w,i)+b)\n",
    "    return (1-t0**2)*(((1+t0)/2)-d)*i"
   ]
  },
  {
   "cell_type": "code",
   "execution_count": null,
   "metadata": {},
   "outputs": [],
   "source": [
    "def L_b(i,w,b,d):\n",
    "    t0=np.tanh(np.dot(w,i)+b)\n",
    "    return (1-t0**2)*(((1+t0)/2)-d)"
   ]
  },
  {
   "cell_type": "code",
   "execution_count": null,
   "metadata": {},
   "outputs": [],
   "source": [
    "def dL_dw(w, b, imagenes, diagnosticos):\n",
    "    gradiente = np.zeros_like(w)\n",
    "    for i, imagen in enumerate(imagenes):\n",
    "        gradiente += L_w(imagen, w, b, diagnosticos[i])\n",
    "    return gradiente / len(imagenes)"
   ]
  },
  {
   "cell_type": "code",
   "execution_count": null,
   "metadata": {},
   "outputs": [],
   "source": [
    "def dL_db(w, b, imagenes, diagnosticos):\n",
    "    gradiente = 0\n",
    "    for i, imagen in enumerate(imagenes):\n",
    "        gradiente += L_b(imagen, w, b, diagnosticos[i])\n",
    "    return gradiente / len(imagenes)"
   ]
  },
  {
   "cell_type": "code",
   "execution_count": null,
   "metadata": {},
   "outputs": [],
   "source": [
    "def f(i, w, b):\n",
    "    tan=np.tanh(np.dot(w, i) + b)\n",
    "    return (tan+1)/2"
   ]
  },
  {
   "cell_type": "code",
   "execution_count": null,
   "metadata": {},
   "outputs": [],
   "source": [
    "def func_L(w, b, imagenes, diagnosticos):\n",
    "    error = 0\n",
    "    for i, imagen in enumerate(imagenes):\n",
    "        prediccion = f(imagen, w, b)\n",
    "        error += (prediccion - diagnosticos[i])**2\n",
    "    return error / len(imagenes)"
   ]
  },
  {
   "cell_type": "code",
   "execution_count": null,
   "metadata": {},
   "outputs": [],
   "source": [
    "def descenso_grad(w, b, grad_w, grad_b, alpha):\n",
    "    w = w - alpha* grad_w\n",
    "    b = b - alpha* grad_b\n",
    "    return w, b"
   ]
  },
  {
   "cell_type": "code",
   "execution_count": null,
   "metadata": {},
   "outputs": [],
   "source": [
    "def descenso_por_gradiente(imagenes, alpha):\n",
    "    w_t = np.random.rand(imagenes[0][0].shape[0])\n",
    "    b_t = np.random.rand()\n",
    "\n",
    "    iteracion = 0\n",
    "    TOLERANCIA=1e-6\n",
    "\n",
    "    while iteracion < 1000:\n",
    "        print(\"Iteración: \", iteracion, \"- Mínimo alcanzado hasta el momento: \", L(imagenes, w_t, b_t))\n",
    "\n",
    "        w_t_mas_1 = w_t - alpha * dL_dw(imagenes, w_t, b_t)\n",
    "        b_t_mas_1 = b_t - alpha * dL_db(imagenes, w_t, b_t)\n",
    "\n",
    "        if abs(func_L(imagenes, w_t_mas_1, b_t_mas_1) - func_L(imagenes, w_t, b_t)) < TOLERANCIA:\n",
    "            break\n",
    "    \n",
    "        w_t = w_t_mas_1\n",
    "        b_t = b_t_mas_1\n",
    "        iteracion += 1\n",
    "\n",
    "    return [w_t, b_t]"
   ]
  }
 ],
 "metadata": {
  "kernelspec": {
   "display_name": "Python 3",
   "language": "python",
   "name": "python3"
  },
  "language_info": {
   "codemirror_mode": {
    "name": "ipython",
    "version": 3
   },
   "file_extension": ".py",
   "mimetype": "text/x-python",
   "name": "python",
   "nbconvert_exporter": "python",
   "pygments_lexer": "ipython3",
   "version": "3.11.9"
  }
 },
 "nbformat": 4,
 "nbformat_minor": 2
}
