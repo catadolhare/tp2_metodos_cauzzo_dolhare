{
 "cells": [
  {
   "cell_type": "markdown",
   "metadata": {},
   "source": [
    "# Trabájo Practico 2 - Métodos Computacionales"
   ]
  },
  {
   "cell_type": "markdown",
   "metadata": {},
   "source": [
    "### Camila Cauzzo, Catalina Dolhare"
   ]
  },
  {
   "cell_type": "code",
   "execution_count": 7,
   "metadata": {},
   "outputs": [],
   "source": [
    "import numpy as np\n",
    "import matplotlib.pyplot as plt\n",
    "from PIL import Image\n",
    "import os\n",
    "import time\n",
    "import random"
   ]
  },
  {
   "cell_type": "code",
   "execution_count": 8,
   "metadata": {},
   "outputs": [],
   "source": [
    "from derivada_w import fAndG as fAndG_w\n",
    "from derivada_b import fAndG as fAndG_b"
   ]
  },
  {
   "cell_type": "code",
   "execution_count": 9,
   "metadata": {},
   "outputs": [],
   "source": [
    "def abrirImagenesEscaladas( carpeta, escala=32 ):\n",
    "    # abre todas las imagenes de la carpeta, y las escala de tal forma que midan (escala x escala)px\n",
    "    # devuelve las imagenes aplanadas -> vectores de tamano escala^2 con valores entre 0 y 1\n",
    "    imagenes = []\n",
    "\n",
    "    for dirpath, dirnames, filenames in os.walk(carpeta):\n",
    "        for file in filenames:\n",
    "            img = Image.open( os.path.join(carpeta, file) )\n",
    "            img = img.resize((escala, escala))\n",
    "            img.convert('1')\n",
    "            img = np.asarray(img)\n",
    "            if len(img.shape)==3:\n",
    "                img = img[:,:,0].reshape((escala**2 )) / 255\n",
    "            else:\n",
    "                img = img.reshape((escala**2 )) / 255\n",
    "            \n",
    "            imagenes.append( img )\n",
    "\n",
    "    return imagenes"
   ]
  },
  {
   "cell_type": "code",
   "execution_count": 10,
   "metadata": {},
   "outputs": [],
   "source": [
    "def balancear_datos():\n",
    "    imagenes_train_normal = abrirImagenesEscaladas(\"chest_xray/train/NORMAL\")\n",
    "    imagenes_train_pneumonia = abrirImagenesEscaladas(\"chest_xray/train/PNEUMONIA\")\n",
    "\n",
    "    cantidad_imagenes = min(len(imagenes_train_normal), len(imagenes_train_pneumonia))\n",
    "    imagenes_train_normal = imagenes_train_normal[:cantidad_imagenes]\n",
    "    imagenes_train_pneumonia = imagenes_train_pneumonia[:cantidad_imagenes]\n",
    "\n",
    "    return [imagenes_train_normal, imagenes_train_pneumonia]"
   ]
  },
  {
   "cell_type": "markdown",
   "metadata": {},
   "source": [
    "### Ejercicio 1"
   ]
  },
  {
   "cell_type": "markdown",
   "metadata": {},
   "source": [
    "Calculamos las derivadas parciales"
   ]
  },
  {
   "cell_type": "code",
   "execution_count": 39,
   "metadata": {},
   "outputs": [],
   "source": [
    "def dw(i, w, b, d):\n",
    "    t_0 = np.tanh((b + (w).dot(i)))\n",
    "    t_1 = (((1 + t_0) / 2) - d)\n",
    "    gradient = (((1 - (t_0 ** 2)) * t_1) * i)\n",
    "\n",
    "    return gradient"
   ]
  },
  {
   "cell_type": "code",
   "execution_count": 40,
   "metadata": {},
   "outputs": [],
   "source": [
    "def db(i, w, b, d):\n",
    "    t_0 = np.tanh((b + (w).dot(i)))\n",
    "    t_1 = (((1 + t_0) / 2) - d)\n",
    "    gradient = ((1 - (t_0 ** 2)) * t_1)\n",
    "\n",
    "    return gradient"
   ]
  },
  {
   "cell_type": "code",
   "execution_count": 41,
   "metadata": {},
   "outputs": [],
   "source": [
    "def sum_dw(imagenes, w, b, d):\n",
    "    gradient = np.zeros(len(w))\n",
    "    for i in imagenes:\n",
    "        gradient += dw(i, w, b, d)\n",
    "    return gradient"
   ]
  },
  {
   "cell_type": "code",
   "execution_count": 42,
   "metadata": {},
   "outputs": [],
   "source": [
    "def sum_db(imagenes, w, b, d):\n",
    "    gradient = 0\n",
    "    for i in imagenes:\n",
    "        gradient += db(i, w, b, d)\n",
    "    return gradient"
   ]
  },
  {
   "cell_type": "code",
   "execution_count": 13,
   "metadata": {},
   "outputs": [],
   "source": [
    "def f(i, w, b):\n",
    "    return (np.tanh(np.dot(w, i) + b)+1)/2"
   ]
  },
  {
   "cell_type": "code",
   "execution_count": 14,
   "metadata": {},
   "outputs": [],
   "source": [
    "def L(imagenes, w, b):\n",
    "    imagenes_normal = imagenes[0]\n",
    "    imagenes_pneumonia = imagenes[1]\n",
    "\n",
    "    sumL = 0\n",
    "\n",
    "    for i in imagenes_normal:\n",
    "        L = (f(i, w, b) - 0)**2\n",
    "        sumL += L\n",
    "    \n",
    "    for i in imagenes_pneumonia:\n",
    "        L = (f(i, w, b) - 1)**2\n",
    "        sumL += L\n",
    "        \n",
    "    return sumL"
   ]
  },
  {
   "cell_type": "markdown",
   "metadata": {},
   "source": [
    "## Ejercicio 2"
   ]
  },
  {
   "cell_type": "markdown",
   "metadata": {},
   "source": [
    "Implementamos el metodo descenso por gradiente"
   ]
  },
  {
   "cell_type": "code",
   "execution_count": 46,
   "metadata": {},
   "outputs": [],
   "source": [
    "def gradiente_descendiente(imagenes, alpha):\n",
    "    imagenes_normales = imagenes[0]\n",
    "    imagenes_pneumonia = imagenes[1]\n",
    "\n",
    "    w = np.random.rand(32**2)\n",
    "    b = np.random.rand(1)\n",
    "    dw = np.zeros(w.shape)\n",
    "    db = 0\n",
    "\n",
    "    for i in range(1000):\n",
    "        print(\"Iteracion: \", i, \" L: \", L(imagenes, w, b))  \n",
    "        for j in range(len(imagenes_normales)):\n",
    "            dw = sum_dw(imagenes_normales, w, b, 0) + sum_dw(imagenes_pneumonia, w, b, 1)\n",
    "            db = sum_db(imagenes_normales, w, b, 0) + sum_db(imagenes_pneumonia, w, b, 1)\n",
    "        \n",
    "        w = w - alpha * dw\n",
    "        b = b - alpha * db\n",
    "\n",
    "        print(L(imagenes, w, b))\n",
    "\n",
    "    return w, b"
   ]
  },
  {
   "cell_type": "code",
   "execution_count": null,
   "metadata": {},
   "outputs": [],
   "source": [
    "imagenes=balancear_datos()"
   ]
  },
  {
   "cell_type": "code",
   "execution_count": 47,
   "metadata": {},
   "outputs": [
    {
     "name": "stdout",
     "output_type": "stream",
     "text": [
      "Iteracion:  0  L:  [1349.]\n",
      "[1349.]\n",
      "Iteracion:  1  L:  [1349.]\n"
     ]
    },
    {
     "ename": "KeyboardInterrupt",
     "evalue": "",
     "output_type": "error",
     "traceback": [
      "\u001b[1;31m---------------------------------------------------------------------------\u001b[0m",
      "\u001b[1;31mKeyboardInterrupt\u001b[0m                         Traceback (most recent call last)",
      "Cell \u001b[1;32mIn[47], line 1\u001b[0m\n\u001b[1;32m----> 1\u001b[0m w_opt, b_opt \u001b[38;5;241m=\u001b[39m \u001b[43mgradiente_descendiente\u001b[49m\u001b[43m(\u001b[49m\u001b[43mimagenes\u001b[49m\u001b[43m,\u001b[49m\u001b[43m \u001b[49m\u001b[38;5;241;43m0.0001\u001b[39;49m\u001b[43m)\u001b[49m\n",
      "Cell \u001b[1;32mIn[46], line 13\u001b[0m, in \u001b[0;36mgradiente_descendiente\u001b[1;34m(imagenes, alpha)\u001b[0m\n\u001b[0;32m     11\u001b[0m \u001b[38;5;28mprint\u001b[39m(\u001b[38;5;124m\"\u001b[39m\u001b[38;5;124mIteracion: \u001b[39m\u001b[38;5;124m\"\u001b[39m, i, \u001b[38;5;124m\"\u001b[39m\u001b[38;5;124m L: \u001b[39m\u001b[38;5;124m\"\u001b[39m, L(imagenes, w, b))  \n\u001b[0;32m     12\u001b[0m \u001b[38;5;28;01mfor\u001b[39;00m j \u001b[38;5;129;01min\u001b[39;00m \u001b[38;5;28mrange\u001b[39m(\u001b[38;5;28mlen\u001b[39m(imagenes_normales)):\n\u001b[1;32m---> 13\u001b[0m     dw \u001b[38;5;241m=\u001b[39m \u001b[43msum_dw\u001b[49m\u001b[43m(\u001b[49m\u001b[43mimagenes_normales\u001b[49m\u001b[43m,\u001b[49m\u001b[43m \u001b[49m\u001b[43mw\u001b[49m\u001b[43m,\u001b[49m\u001b[43m \u001b[49m\u001b[43mb\u001b[49m\u001b[43m,\u001b[49m\u001b[43m \u001b[49m\u001b[38;5;241;43m0\u001b[39;49m\u001b[43m)\u001b[49m \u001b[38;5;241m+\u001b[39m sum_dw(imagenes_pneumonia, w, b, \u001b[38;5;241m1\u001b[39m)\n\u001b[0;32m     14\u001b[0m     db \u001b[38;5;241m=\u001b[39m sum_db(imagenes_normales, w, b, \u001b[38;5;241m0\u001b[39m) \u001b[38;5;241m+\u001b[39m sum_db(imagenes_pneumonia, w, b, \u001b[38;5;241m1\u001b[39m)\n\u001b[0;32m     16\u001b[0m w \u001b[38;5;241m=\u001b[39m w \u001b[38;5;241m-\u001b[39m alpha \u001b[38;5;241m*\u001b[39m dw\n",
      "Cell \u001b[1;32mIn[41], line 4\u001b[0m, in \u001b[0;36msum_dw\u001b[1;34m(imagenes, w, b, d)\u001b[0m\n\u001b[0;32m      2\u001b[0m gradient \u001b[38;5;241m=\u001b[39m np\u001b[38;5;241m.\u001b[39mzeros(\u001b[38;5;28mlen\u001b[39m(w))\n\u001b[0;32m      3\u001b[0m \u001b[38;5;28;01mfor\u001b[39;00m i \u001b[38;5;129;01min\u001b[39;00m imagenes:\n\u001b[1;32m----> 4\u001b[0m     gradient \u001b[38;5;241m+\u001b[39m\u001b[38;5;241m=\u001b[39m \u001b[43mdw\u001b[49m\u001b[43m(\u001b[49m\u001b[43mi\u001b[49m\u001b[43m,\u001b[49m\u001b[43m \u001b[49m\u001b[43mw\u001b[49m\u001b[43m,\u001b[49m\u001b[43m \u001b[49m\u001b[43mb\u001b[49m\u001b[43m,\u001b[49m\u001b[43m \u001b[49m\u001b[43md\u001b[49m\u001b[43m)\u001b[49m\n\u001b[0;32m      5\u001b[0m \u001b[38;5;28;01mreturn\u001b[39;00m gradient\n",
      "Cell \u001b[1;32mIn[39], line 2\u001b[0m, in \u001b[0;36mdw\u001b[1;34m(i, w, b, d)\u001b[0m\n\u001b[0;32m      1\u001b[0m \u001b[38;5;28;01mdef\u001b[39;00m \u001b[38;5;21mdw\u001b[39m(i, w, b, d):\n\u001b[1;32m----> 2\u001b[0m     t_0 \u001b[38;5;241m=\u001b[39m np\u001b[38;5;241m.\u001b[39mtanh((b \u001b[38;5;241m+\u001b[39m \u001b[43m(\u001b[49m\u001b[43mw\u001b[49m\u001b[43m)\u001b[49m\u001b[38;5;241;43m.\u001b[39;49m\u001b[43mdot\u001b[49m\u001b[43m(\u001b[49m\u001b[43mi\u001b[49m\u001b[43m)\u001b[49m))\n\u001b[0;32m      3\u001b[0m     t_1 \u001b[38;5;241m=\u001b[39m (((\u001b[38;5;241m1\u001b[39m \u001b[38;5;241m+\u001b[39m t_0) \u001b[38;5;241m/\u001b[39m \u001b[38;5;241m2\u001b[39m) \u001b[38;5;241m-\u001b[39m d)\n\u001b[0;32m      4\u001b[0m     gradient \u001b[38;5;241m=\u001b[39m (((\u001b[38;5;241m1\u001b[39m \u001b[38;5;241m-\u001b[39m (t_0 \u001b[38;5;241m*\u001b[39m\u001b[38;5;241m*\u001b[39m \u001b[38;5;241m2\u001b[39m)) \u001b[38;5;241m*\u001b[39m t_1) \u001b[38;5;241m*\u001b[39m i)\n",
      "\u001b[1;31mKeyboardInterrupt\u001b[0m: "
     ]
    }
   ],
   "source": [
    "w_opt, b_opt = gradiente_descendiente(imagenes, 0.0001)"
   ]
  }
 ],
 "metadata": {
  "kernelspec": {
   "display_name": "metodos",
   "language": "python",
   "name": "python3"
  },
  "language_info": {
   "codemirror_mode": {
    "name": "ipython",
    "version": 3
   },
   "file_extension": ".py",
   "mimetype": "text/x-python",
   "name": "python",
   "nbconvert_exporter": "python",
   "pygments_lexer": "ipython3",
   "version": "3.10.13"
  }
 },
 "nbformat": 4,
 "nbformat_minor": 2
}
